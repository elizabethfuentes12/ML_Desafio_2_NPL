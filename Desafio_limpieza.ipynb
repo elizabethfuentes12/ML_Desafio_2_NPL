{
 "cells": [
  {
   "cell_type": "raw",
   "metadata": {},
   "source": [
    "## Desafio 2 Limpieza de los datos"
   ]
  },
  {
   "cell_type": "code",
   "execution_count": 25,
   "metadata": {},
   "outputs": [],
   "source": [
    "import pandas as pd\n",
    "import seaborn as sns\n",
    "import matplotlib.pyplot as plt\n",
    "\n",
    "import warnings\n",
    "warnings.filterwarnings('ignore')"
   ]
  },
  {
   "cell_type": "code",
   "execution_count": 39,
   "metadata": {},
   "outputs": [],
   "source": [
    "logs = pd.read_csv(\"logs_textos_usuario.csv\")"
   ]
  },
  {
   "cell_type": "markdown",
   "metadata": {},
   "source": [
    "# Iniciamos la limpiesa del DataSet original"
   ]
  },
  {
   "cell_type": "code",
   "execution_count": 63,
   "metadata": {},
   "outputs": [
    {
     "name": "stdout",
     "output_type": "stream",
     "text": [
      "Existen  140  tipos distintos de respuestas para intent\n",
      "12  columnas en logs_textos_usuario.csv\n"
     ]
    }
   ],
   "source": [
    "print(\"Existen \",len(logs.intent.unique()), \" tipos distintos de respuestas para intent\")\n",
    "print(logs.shape[1],\" columnas en logs_textos_usuario.csv\")"
   ]
  },
  {
   "cell_type": "code",
   "execution_count": 58,
   "metadata": {},
   "outputs": [
    {
     "data": {
      "text/plain": [
       "array(['NO', nan, 'SI'], dtype=object)"
      ]
     },
     "execution_count": 58,
     "metadata": {},
     "output_type": "execute_result"
    }
   ],
   "source": [
    "logs.resolved.unique()"
   ]
  },
  {
   "cell_type": "markdown",
   "metadata": {},
   "source": [
    "### Tenemos valores nulos en resolved, los cuales debemos extraer de nuestro DataSet por no generar informacion en un modelo de prediccion."
   ]
  },
  {
   "cell_type": "code",
   "execution_count": 66,
   "metadata": {},
   "outputs": [
    {
     "name": "stdout",
     "output_type": "stream",
     "text": [
      "Hay 34445 valores nulos en el DataSet logs_textos_usuario.csv\n",
      "Quedamos con un DataSet final de : 20069  lineas\n"
     ]
    }
   ],
   "source": [
    "mask=logs.resolved.isna()\n",
    "logs_nonan=logs[~mask]\n",
    "print(\"Hay\", logs.shape[0]-logs_nonan.shape[0], \"valores nulos en el DataSet logs_textos_usuario.csv\")\n",
    "print(\"Quedamos con un DataSet final de :\", logs_nonan.shape[0],\" lineas\")"
   ]
  },
  {
   "cell_type": "code",
   "execution_count": 74,
   "metadata": {},
   "outputs": [
    {
     "data": {
      "text/plain": [
       "<matplotlib.axes._subplots.AxesSubplot at 0x7f73039f54e0>"
      ]
     },
     "execution_count": 74,
     "metadata": {},
     "output_type": "execute_result"
    },
    {
     "data": {
      "image/png": "[encoded data removed]",
      "text/plain": [
       "<Figure size 432x288 with 1 Axes>"
      ]
     },
     "metadata": {},
     "output_type": "display_data"
    }
   ],
   "source": [
    "logs_nonan1 = logs_nonan.drop(['conversationId','createAt'], axis=1) \n",
    "sns.countplot(logs_nonan1[\"resolved\"])"
   ]
  },
  {
   "cell_type": "code",
   "execution_count": 75,
   "metadata": {},
   "outputs": [
    {
     "data": {
      "text/html": [
       "<div>\n",
       "<style scoped>\n",
       "    .dataframe tbody tr th:only-of-type {\n",
       "        vertical-align: middle;\n",
       "    }\n",
       "\n",
       "    .dataframe tbody tr th {\n",
       "        vertical-align: top;\n",
       "    }\n",
       "\n",
       "    .dataframe thead th {\n",
       "        text-align: right;\n",
       "    }\n",
       "</style>\n",
       "<table border=\"1\" class=\"dataframe\">\n",
       "  <thead>\n",
       "    <tr style=\"text-align: right;\">\n",
       "      <th></th>\n",
       "      <th>text</th>\n",
       "      <th>intent</th>\n",
       "      <th>intentScore</th>\n",
       "      <th>selectedOption</th>\n",
       "      <th>topIntent1</th>\n",
       "      <th>topIntent2</th>\n",
       "      <th>topIntent3</th>\n",
       "      <th>topIntent4</th>\n",
       "      <th>topIntent5</th>\n",
       "    </tr>\n",
       "    <tr>\n",
       "      <th>resolved</th>\n",
       "      <th></th>\n",
       "      <th></th>\n",
       "      <th></th>\n",
       "      <th></th>\n",
       "      <th></th>\n",
       "      <th></th>\n",
       "      <th></th>\n",
       "      <th></th>\n",
       "      <th></th>\n",
       "    </tr>\n",
       "  </thead>\n",
       "  <tbody>\n",
       "    <tr>\n",
       "      <th>NO</th>\n",
       "      <td>16958</td>\n",
       "      <td>16956</td>\n",
       "      <td>16956</td>\n",
       "      <td>16958</td>\n",
       "      <td>16958</td>\n",
       "      <td>16958</td>\n",
       "      <td>16958</td>\n",
       "      <td>16958</td>\n",
       "      <td>16958</td>\n",
       "    </tr>\n",
       "    <tr>\n",
       "      <th>SI</th>\n",
       "      <td>3111</td>\n",
       "      <td>3111</td>\n",
       "      <td>3111</td>\n",
       "      <td>0</td>\n",
       "      <td>0</td>\n",
       "      <td>0</td>\n",
       "      <td>0</td>\n",
       "      <td>0</td>\n",
       "      <td>0</td>\n",
       "    </tr>\n",
       "  </tbody>\n",
       "</table>\n",
       "</div>"
      ],
      "text/plain": [
       "           text  intent  intentScore  selectedOption  topIntent1  topIntent2  \\\n",
       "resolved                                                                       \n",
       "NO        16958   16956        16956           16958       16958       16958   \n",
       "SI         3111    3111         3111               0           0           0   \n",
       "\n",
       "          topIntent3  topIntent4  topIntent5  \n",
       "resolved                                      \n",
       "NO             16958       16958       16958  \n",
       "SI                 0           0           0  "
      ]
     },
     "execution_count": 75,
     "metadata": {},
     "output_type": "execute_result"
    }
   ],
   "source": [
    "logs_nonan1.groupby(by=\"resolved\").count()"
   ]
  },
  {
   "cell_type": "markdown",
   "metadata": {},
   "source": [
    "### La tasa de resueltos por en el DataSet no es muy acertada, por lo que separamos en dos DataFrame, uno para los Resueltos y otros para los no Resuelto, para luego crear un DataSet final solo con el texto ingresado por el cliente y los intent o respuestas finales dadas por el bot que creo el DataSet logs_textos_usuario.csv"
   ]
  },
  {
   "cell_type": "code",
   "execution_count": 76,
   "metadata": {},
   "outputs": [],
   "source": [
    "resolved1 = logs_nonan1[logs_nonan1['resolved']=='SI']\n",
    "not_resolved = logs_nonan1[logs_nonan1['resolved']=='NO']"
   ]
  },
  {
   "cell_type": "markdown",
   "metadata": {},
   "source": [
    "### Para el DatSet not_resolved hacemos mach de la seleccion con el topIntent que corresponda y creamos una nueva columna con el nombre intent2.\n",
    "    selectedOption 1: topIntent1\n",
    "    selectedOption 2: topIntent2\n",
    "    selectedOption 3: topIntent3\n",
    "    selectedOption 4: topIntent4\n",
    "    selectedOption 5: topIntent5"
   ]
  },
  {
   "cell_type": "code",
   "execution_count": 77,
   "metadata": {},
   "outputs": [],
   "source": [
    "not_resolved.selectedOption = not_resolved.selectedOption.astype('int') #selectedOption actualmente esta como float"
   ]
  },
  {
   "cell_type": "code",
   "execution_count": 78,
   "metadata": {},
   "outputs": [],
   "source": [
    "def get_final_option(row):\n",
    "    select=not_resolved.columns[row.selectedOption+4]\n",
    "    return row[select]"
   ]
  },
  {
   "cell_type": "code",
   "execution_count": 79,
   "metadata": {},
   "outputs": [],
   "source": [
    "not_resolved[\"intent2\"]=not_resolved.apply(get_final_option,axis=1)\n",
    "not_resolved2 = not_resolved.drop(['topIntent1','topIntent2',\"topIntent3\",\"topIntent4\",\"topIntent5\",\"resolved\",\"selectedOption\",\"intentScore\",\"intent\"], axis=1) "
   ]
  },
  {
   "cell_type": "code",
   "execution_count": 80,
   "metadata": {},
   "outputs": [
    {
     "data": {
      "text/plain": [
       "<matplotlib.axes._subplots.AxesSubplot at 0x7f73035284a8>"
      ]
     },
     "execution_count": 80,
     "metadata": {},
     "output_type": "execute_result"
    },
    {
     "data": {
      "image/png": "[encoded data removed]",
      "text/plain": [
       "<Figure size 720x720 with 1 Axes>"
      ]
     },
     "metadata": {},
     "output_type": "display_data"
    }
   ],
   "source": [
    "fig, ax =  plt.subplots(figsize=(10,10))\n",
    "sns.countplot(not_resolved[\"selectedOption\"],ax=ax)"
   ]
  },
  {
   "cell_type": "markdown",
   "metadata": {},
   "source": [
    "### En este grafico se aprecia la desproporcion de seleccion de la opcion 5: Ninguna.\n",
    "### La cual debemos extraer del DataSet que usaremos para crear el modelo de prediccion."
   ]
  },
  {
   "cell_type": "code",
   "execution_count": 83,
   "metadata": {},
   "outputs": [],
   "source": [
    "not_resolved2=not_resolved2.rename(columns={'intent2': 'intent'})\n",
    "mask=not_resolved2['intent']=='Ninguna'\n",
    "resolved_no = not_resolved2[~mask]\n",
    "resolved_ninguna = not_resolved2[mask]"
   ]
  },
  {
   "cell_type": "code",
   "execution_count": 84,
   "metadata": {},
   "outputs": [
    {
     "data": {
      "text/html": [
       "<div>\n",
       "<style scoped>\n",
       "    .dataframe tbody tr th:only-of-type {\n",
       "        vertical-align: middle;\n",
       "    }\n",
       "\n",
       "    .dataframe tbody tr th {\n",
       "        vertical-align: top;\n",
       "    }\n",
       "\n",
       "    .dataframe thead th {\n",
       "        text-align: right;\n",
       "    }\n",
       "</style>\n",
       "<table border=\"1\" class=\"dataframe\">\n",
       "  <thead>\n",
       "    <tr style=\"text-align: right;\">\n",
       "      <th></th>\n",
       "      <th>text</th>\n",
       "      <th>intent</th>\n",
       "    </tr>\n",
       "  </thead>\n",
       "  <tbody>\n",
       "    <tr>\n",
       "      <th>3</th>\n",
       "      <td>Me cortaron el servicio por un monto no pagado...</td>\n",
       "      <td>HANDOVER_RECLAMOS</td>\n",
       "    </tr>\n",
       "    <tr>\n",
       "      <th>12</th>\n",
       "      <td>Hola buenas tardes quiero saber donde puedo ba...</td>\n",
       "      <td>KGB_INSTAMCAFEEBANDAANCHA</td>\n",
       "    </tr>\n",
       "    <tr>\n",
       "      <th>21</th>\n",
       "      <td>Cómo puedo terminar mi contrato móvil</td>\n",
       "      <td>HANDOVER_BAJA</td>\n",
       "    </tr>\n",
       "    <tr>\n",
       "      <th>43</th>\n",
       "      <td>Y quiero pedir una prórroga</td>\n",
       "      <td>KGB_PRORROGA</td>\n",
       "    </tr>\n",
       "    <tr>\n",
       "      <th>62</th>\n",
       "      <td>me gustaria rebajar mi plan de telefonia mobil...</td>\n",
       "      <td>KGB_SOLCAMBIPLAN</td>\n",
       "    </tr>\n",
       "  </tbody>\n",
       "</table>\n",
       "</div>"
      ],
      "text/plain": [
       "                                                 text  \\\n",
       "3   Me cortaron el servicio por un monto no pagado...   \n",
       "12  Hola buenas tardes quiero saber donde puedo ba...   \n",
       "21              Cómo puedo terminar mi contrato móvil   \n",
       "43                        Y quiero pedir una prórroga   \n",
       "62  me gustaria rebajar mi plan de telefonia mobil...   \n",
       "\n",
       "                       intent  \n",
       "3           HANDOVER_RECLAMOS  \n",
       "12  KGB_INSTAMCAFEEBANDAANCHA  \n",
       "21              HANDOVER_BAJA  \n",
       "43               KGB_PRORROGA  \n",
       "62           KGB_SOLCAMBIPLAN  "
      ]
     },
     "execution_count": 84,
     "metadata": {},
     "output_type": "execute_result"
    }
   ],
   "source": [
    "resolved_si=resolved1.drop(['topIntent1','topIntent2',\"topIntent3\",\"topIntent4\",\"topIntent5\",\"resolved\",\"selectedOption\",\"intentScore\"], axis=1) \n",
    "resolved_si.head()"
   ]
  },
  {
   "cell_type": "code",
   "execution_count": 85,
   "metadata": {},
   "outputs": [
    {
     "data": {
      "text/html": [
       "<div>\n",
       "<style scoped>\n",
       "    .dataframe tbody tr th:only-of-type {\n",
       "        vertical-align: middle;\n",
       "    }\n",
       "\n",
       "    .dataframe tbody tr th {\n",
       "        vertical-align: top;\n",
       "    }\n",
       "\n",
       "    .dataframe thead th {\n",
       "        text-align: right;\n",
       "    }\n",
       "</style>\n",
       "<table border=\"1\" class=\"dataframe\">\n",
       "  <thead>\n",
       "    <tr style=\"text-align: right;\">\n",
       "      <th></th>\n",
       "      <th>text</th>\n",
       "      <th>intent</th>\n",
       "    </tr>\n",
       "  </thead>\n",
       "  <tbody>\n",
       "    <tr>\n",
       "      <th>0</th>\n",
       "      <td>Me cortaron el servicio por un monto no pagado...</td>\n",
       "      <td>HANDOVER_RECLAMOS</td>\n",
       "    </tr>\n",
       "    <tr>\n",
       "      <th>1</th>\n",
       "      <td>Hola buenas tardes quiero saber donde puedo ba...</td>\n",
       "      <td>KGB_INSTAMCAFEEBANDAANCHA</td>\n",
       "    </tr>\n",
       "    <tr>\n",
       "      <th>2</th>\n",
       "      <td>Cómo puedo terminar mi contrato móvil</td>\n",
       "      <td>HANDOVER_BAJA</td>\n",
       "    </tr>\n",
       "    <tr>\n",
       "      <th>3</th>\n",
       "      <td>Y quiero pedir una prórroga</td>\n",
       "      <td>KGB_PRORROGA</td>\n",
       "    </tr>\n",
       "    <tr>\n",
       "      <th>4</th>\n",
       "      <td>me gustaria rebajar mi plan de telefonia mobil...</td>\n",
       "      <td>KGB_SOLCAMBIPLAN</td>\n",
       "    </tr>\n",
       "  </tbody>\n",
       "</table>\n",
       "</div>"
      ],
      "text/plain": [
       "                                                text  \\\n",
       "0  Me cortaron el servicio por un monto no pagado...   \n",
       "1  Hola buenas tardes quiero saber donde puedo ba...   \n",
       "2              Cómo puedo terminar mi contrato móvil   \n",
       "3                        Y quiero pedir una prórroga   \n",
       "4  me gustaria rebajar mi plan de telefonia mobil...   \n",
       "\n",
       "                      intent  \n",
       "0          HANDOVER_RECLAMOS  \n",
       "1  KGB_INSTAMCAFEEBANDAANCHA  \n",
       "2              HANDOVER_BAJA  \n",
       "3               KGB_PRORROGA  \n",
       "4           KGB_SOLCAMBIPLAN  "
      ]
     },
     "execution_count": 85,
     "metadata": {},
     "output_type": "execute_result"
    }
   ],
   "source": [
    "resolved_ok=pd.concat([resolved_si, resolved_no])\n",
    "mask=resolved_ok.intent==\"None\"\n",
    "resolved_ok = resolved_ok[~mask].reset_index(drop=True)\n",
    "resolved_ok.head(5)"
   ]
  },
  {
   "cell_type": "code",
   "execution_count": 88,
   "metadata": {},
   "outputs": [
    {
     "name": "stdout",
     "output_type": "stream",
     "text": [
      "En tal hay  126 opciones validas para la prediccion.\n"
     ]
    }
   ],
   "source": [
    "print(\"En tal hay \",len(resolved_ok.intent.unique()),\"opciones validas para la prediccion.\")"
   ]
  },
  {
   "cell_type": "code",
   "execution_count": 89,
   "metadata": {},
   "outputs": [],
   "source": [
    "resolved_ok.to_csv(\"resolved_ok.csv\",index=False)\n",
    "resolved_ninguna.to_csv(\"resolved_ninguna.csv\",index=False)"
   ]
  },
  {
   "cell_type": "code",
   "execution_count": null,
   "metadata": {},
   "outputs": [],
   "source": []
  }
 ],
 "metadata": {
  "kernelspec": {
   "display_name": "conda_python3",
   "language": "python",
   "name": "conda_python3"
  },
  "language_info": {
   "codemirror_mode": {
    "name": "ipython",
    "version": 3
   },
   "file_extension": ".py",
   "mimetype": "text/x-python",
   "name": "python",
   "nbconvert_exporter": "python",
   "pygments_lexer": "ipython3",
   "version": "3.6.5"
  }
 },
 "nbformat": 4,
 "nbformat_minor": 4
}
